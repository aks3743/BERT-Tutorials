{
 "cells": [
  {
   "cell_type": "markdown",
   "metadata": {},
   "source": [
    "# Byte-level byte pair encoding \n",
    "\n",
    "Byte-level Byte Pair Encoding (BBPE) is another popularly used tokenizer. It works very similar to BPE but instead of using character level sequence, it uses a byte-level sequence. Let's understand how BBPE works with an example. \n",
    "\n",
    "Let's suppose our input text consists of only the word: 'best'. We know that in BPE, we convert the word into character sequence, so we will have: \n",
    "\n",
    "Character sequence: b e s t\n",
    "\n",
    "Whereas in BBPE, instead of converting the word to the character sequence, we will convert it to a byte-level sequence. So we convert the word 'best' into a byte sequence: \n",
    "\n",
    "Byte sequence: 62 65 73 74\n",
    "\n",
    "In this way, we convert the given input into a byte-level sequence instead of character level sequence. Each Unicode character is converted into a byte. A single character can have 1 to 4 bytes. \n",
    "\n",
    "Let's consider one more example. Let's suppose our input consists of a Chinese word: 你好. Now, instead of converting the word into the character sequence, we will convert the word into a byte-level sequence. So we have: \n",
    "\n",
    "Byte sequence: e4 bd a0 e5 a5 bd\n",
    "\n",
    "As we can observe we converted the input word into a byte sequence. In this manner, we convert the given text to a byte-level sequence, and then we apply the BPE algorithm and build vocabulary using byte-level frequent pairs. But what is this use of doing byte-level BPE instead of character level? Byte-level BPE will be very useful in a multilingual setting. It is very effective in handling out-of-vocabulary words and it is great at sharing vocabulary across multiple languages. "
   ]
  }
 ],
 "metadata": {
  "kernelspec": {
   "display_name": "Python 3",
   "language": "python",
   "name": "python3"
  },
  "language_info": {
   "codemirror_mode": {
    "name": "ipython",
    "version": 3
   },
   "file_extension": ".py",
   "mimetype": "text/x-python",
   "name": "python",
   "nbconvert_exporter": "python",
   "pygments_lexer": "ipython3",
   "version": "3.6.3"
  }
 },
 "nbformat": 4,
 "nbformat_minor": 2
}
