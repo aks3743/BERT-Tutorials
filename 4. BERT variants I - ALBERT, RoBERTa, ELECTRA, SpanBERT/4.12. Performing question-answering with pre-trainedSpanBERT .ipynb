{
 "cells": [
  {
   "cell_type": "markdown",
   "metadata": {
    "id": "SPlSmKBbDGy7"
   },
   "source": [
    "# Performing Q&As with pre-trained SpanBERT \n",
    "Let's learn how to perform question answering with a pre-trained SpanBERT model which is fine-tuned on the Question-answering task. In this section, we use the transformers library pipeline API. The pipeline is the simple API provided by transformers library for seamlessly performing complex tasks ranging from text classification to question-answering. In this section, we will learn how to use the pipeline for the question-answering task.\n",
    "\n",
    "First, let us import the pipeline: \n"
   ]
  },
  {
   "cell_type": "code",
   "execution_count": 1,
   "metadata": {
    "collapsed": true,
    "id": "MGcHtGDZDIPp"
   },
   "outputs": [],
   "source": [
    "%%capture\n",
    "!pip install transformers==3.5.1"
   ]
  },
  {
   "cell_type": "code",
   "execution_count": 2,
   "metadata": {
    "collapsed": true,
    "id": "oOkd3V27DGzG"
   },
   "outputs": [],
   "source": [
    "from transformers import pipeline"
   ]
  },
  {
   "cell_type": "markdown",
   "metadata": {
    "id": "15fxHB69DGzI"
   },
   "source": [
    "\n",
    "Now, we define our question-answering pipeline. We pass the task which we want to perform, the pre-trained model, and tokenizer as arguments. As shown in the below code, we are using thespanbert-large-fine-tuned-squadv2 model which is the pre-trained and fine-tuned SpanBERT for the question-answering task:\n"
   ]
  },
  {
   "cell_type": "code",
   "execution_count": 3,
   "metadata": {
    "collapsed": true,
    "id": "zUYjYjhzDGzJ"
   },
   "outputs": [],
   "source": [
    "qa_pipeline = pipeline(\n",
    "    \"question-answering\",\n",
    "    model=\"mrm8488/spanbert-large-finetuned-squadv2\",\n",
    "    tokenizer=\"SpanBERT/spanbert-large-cased\"\n",
    ")"
   ]
  },
  {
   "cell_type": "markdown",
   "metadata": {
    "id": "mXaBPEr1DGzJ"
   },
   "source": [
    "\n",
    "\n",
    "Now, we just need to feed the question and the context to the qa_pipeline and it will return the result containing the answer: \n"
   ]
  },
  {
   "cell_type": "code",
   "execution_count": 4,
   "metadata": {
    "colab": {
     "base_uri": "https://localhost:8080/"
    },
    "id": "3UUej1udDGzK",
    "outputId": "ae82243b-4f7b-4065-82dd-f2079fb6718d"
   },
   "outputs": [
    {
     "name": "stderr",
     "output_type": "stream",
     "text": [
      "/usr/local/lib/python3.6/dist-packages/transformers/tokenization_utils_base.py:1423: FutureWarning: The `max_len` attribute has been deprecated and will be removed in a future version, use `model_max_length` instead.\n",
      "  FutureWarning,\n"
     ]
    }
   ],
   "source": [
    "results = qa_pipeline({\n",
    "    'question': \"what is machine learning?\",\n",
    "    'context': \"Machine learning is a subset of artificial intelligence. It is widely for creating a variety of applications such as email filtering and computer vision\"\n",
    "})"
   ]
  },
  {
   "cell_type": "markdown",
   "metadata": {
    "id": "LbpXLBNADGzK"
   },
   "source": [
    "\n",
    "\n",
    "Let's print the result:"
   ]
  },
  {
   "cell_type": "code",
   "execution_count": 5,
   "metadata": {
    "colab": {
     "base_uri": "https://localhost:8080/"
    },
    "id": "Qw9Xh6jyDGzL",
    "outputId": "72704e39-789f-435a-9254-f0ffa5c66914"
   },
   "outputs": [
    {
     "name": "stdout",
     "output_type": "stream",
     "text": [
      "a subset of artificial intelligence.\n"
     ]
    }
   ],
   "source": [
    "print(results['answer'])"
   ]
  },
  {
   "cell_type": "markdown",
   "metadata": {
    "id": "eviLUwVrDGzL"
   },
   "source": [
    "\n",
    "\n",
    "In this way, SpanBERT is popularly used for tasks where we need to predict the text span.\n",
    "\n",
    "Thus, in this chapter, we learned several variants of BERT. In the next chapter, we will learn another set of several variants of BERT which are based on knowledge distillation. \n",
    "\n"
   ]
  }
 ],
 "metadata": {
  "colab": {
   "name": "4.12. Performing question-answering with pre-trained\nSpanBERT .ipynb",
   "provenance": []
  },
  "kernelspec": {
   "display_name": "Python 3",
   "language": "python",
   "name": "python3"
  },
  "language_info": {
   "codemirror_mode": {
    "name": "ipython",
    "version": 3
   },
   "file_extension": ".py",
   "mimetype": "text/x-python",
   "name": "python",
   "nbconvert_exporter": "python",
   "pygments_lexer": "ipython3",
   "version": "3.6.3"
  }
 },
 "nbformat": 4,
 "nbformat_minor": 1
}
