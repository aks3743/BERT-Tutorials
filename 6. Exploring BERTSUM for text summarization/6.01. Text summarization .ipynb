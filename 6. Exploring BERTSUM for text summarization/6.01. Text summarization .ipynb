{
 "cells": [
  {
   "cell_type": "markdown",
   "metadata": {},
   "source": [
    "# Text summarization \n",
    "\n",
    "Text summarization is the process of converting a long text into its summary. Suppose, you have a Wikipedia article and say you don't want to read the whole article and you just need an overview of the article. In this case, summarizing the Wikipedia article will help us get an overview of the article. Text summarization is widely used for a variety of applications ranging from summarizing long documents, news articles, blog posts, and many more. In the text summarization task, given a long text, our goal is to convert the given long text into its summary as shown in the image: \n",
    "\n",
    "![title](images/1.png)\n",
    "\n",
    "Text summarization is of two types as given in the following: \n",
    "\n",
    "- Extractive summarization\n",
    "- Abstractive summarization \n",
    "\n",
    "Now let's explore the extractive and abstractive summarization in detail.\n",
    "\n",
    "# Extractive summarization\n",
    "In extractive summarization, we create a summary from a given text by just extracting only the important sentences. \n",
    "\n",
    "That is, say, we are given a long document containing many sentences, with extractive summarization, we create a summary of the document by extracting only the important sentences that hold the essential meaning of the document. \n",
    "\n",
    "Let us understand extractive summarization with a small example. Consider the following text from Wikipedia: \n",
    "\n",
    "*Machine learning is the study of computer algorithms that improve automatically through experience. It is seen as a subset of artificial intelligence. Machine learning algorithms build a mathematical model based on sample data, known as training data, in order to make predictions or decisions without being explicitly programmed to do so. Machine learning algorithms are used in a wide variety of applications, such as email filtering and computer vision, where it is difficult or infeasible to develop conventional algorithms. *\n",
    "\n",
    "Now, with extractive summarization, we only extract the important sentences from the given text. So, as a result of extractive summarization, our summary will look like the following: \n",
    "\n",
    "*Machine learning is the study of computer algorithms that improve automatically through experience. It is seen as a subset of artificial intelligence. Machine learning algorithms are used in a wide variety of applications, such as email filtering and computer vision, where it is difficult or infeasible to develop conventional algorithms. *\n",
    "\n",
    "From the preceding result, we can observe that our summary consists of only the important sentences that hold the meaning of the given text. \n",
    "\n",
    "## Abstractive summarization \n",
    "Unlike extractive summarization, in abstractive summarization, we will not create a summary by just extracting important sentences from the given text. Instead, in this type, we create a summary by paraphrasing the given text. Okay, what is paraphrasing? Paraphrasing implies that we re-express the given text using different words to provide more clarity.\n",
    "\n",
    "So, in abstractive summarization, given a text, we will create a summary by re-expressing the given text using different words holding only the essential meaning of the given text. \n",
    "\n",
    "Let us understand abstractive summarization with a small example. Let us consider the same text we saw in the previous section: \n",
    "\n",
    "*Machine learning is the study of computer algorithms that improve automatically through experience. It is seen as a subset of artificial intelligence. Machine learning algorithms build a mathematical model based on sample data, known as training data, in order to make predictions or decisions without being explicitly programmed to do so. Machine learning algorithms are used in a wide variety of applications, such as email filtering and computer vision, where it is difficult or infeasible to develop conventional algorithms.*\n",
    "\n",
    "Now, with abstractive summarization, we create a summary by paraphrasing the given text. So, as a result of abstractive summarization, our summary will look like shown here: \n",
    "\n",
    "*Machine learning is a subset of artificial intelligence and it is widely for creating a variety of applications such as email filtering and computer vision. *\n",
    "\n",
    "From the preceding result, we can observe that our summary is basically paraphrased from the given text holding only the essential meaning of the text. \n",
    "\n",
    "Now that we have understood what extractive and abstractive summarizations are, in the next section, we will learn how to fine-tune the BERT model for performing extractive and abstractive summarization. "
   ]
  }
 ],
 "metadata": {
  "kernelspec": {
   "display_name": "Python 3",
   "language": "python",
   "name": "python3"
  },
  "language_info": {
   "codemirror_mode": {
    "name": "ipython",
    "version": 3
   },
   "file_extension": ".py",
   "mimetype": "text/x-python",
   "name": "python",
   "nbconvert_exporter": "python",
   "pygments_lexer": "ipython3",
   "version": "3.6.3"
  }
 },
 "nbformat": 4,
 "nbformat_minor": 2
}
