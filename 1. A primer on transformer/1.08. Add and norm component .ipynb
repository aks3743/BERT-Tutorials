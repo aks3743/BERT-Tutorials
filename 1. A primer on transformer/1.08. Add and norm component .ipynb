{
 "cells": [
  {
   "cell_type": "markdown",
   "metadata": {},
   "source": [
    "# Add and norm component \n",
    "One more important component in our encoder is the add and norm. It connects the input and output of a sublayer. That is, as shown in the following figure (dotted lines), we can observe that add and norm component: \n",
    "\n",
    "- Connects the input of the sublayer, multi-head attention to its output. \n",
    "- Connect the input of the sublayer, feedforward to its output. \n",
    "\n",
    "![title](images/33.png)\n",
    "\n",
    "The add and norm component is basically a residual connection followed by layer normalization. Layer normalization promotes faster training by preventing the values in each layer from changing heavily. \n",
    "\n",
    "Now that we have learned all the components of the encoder, let's put all of them together and see how the encoder works as a whole in the next section. "
   ]
  }
 ],
 "metadata": {
  "kernelspec": {
   "display_name": "Python 3",
   "language": "python",
   "name": "python3"
  },
  "language_info": {
   "codemirror_mode": {
    "name": "ipython",
    "version": 3
   },
   "file_extension": ".py",
   "mimetype": "text/x-python",
   "name": "python",
   "nbconvert_exporter": "python",
   "pygments_lexer": "ipython3",
   "version": "3.6.3"
  }
 },
 "nbformat": 4,
 "nbformat_minor": 2
}
