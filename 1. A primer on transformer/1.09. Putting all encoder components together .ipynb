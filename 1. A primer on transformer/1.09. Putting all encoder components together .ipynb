{
 "cells": [
  {
   "cell_type": "markdown",
   "metadata": {},
   "source": [
    "# Putting all encoder components together \n",
    "\n",
    "The following figure shows the stack of two encoders, only encoder 1 is expanded to reduce the clutter: \n",
    "\n",
    "![title](images/34.png)\n",
    "\n",
    "\n",
    "1. First, we convert our input to input embedding (embedding matrix) and then add the position encoding to it and feed them as an input to the bottom-most encoder (encoder 1). \n",
    "2. Encoder 1 takes the input and sends it to the sublayer, the multi-head attention which returns the attention matrix as an output. \n",
    "3. We take the attention matrix and feed them as an input to the next sublayer which is the feedforward network. The feedforward network takes the attention matrix as an input and returns the encoder representation as an output. \n",
    "4. Next, we take the output obtained from encoder 1 and feed it as an input to the encoder above it (encoder 2).\n",
    "5. Encoder 2 carries the same process and returns the encoder representation of the given input sentence as an output.\n",
    "\n",
    "We can stack of $N$ number of encoders one above the other, the output (encoder representation) obtained from the final encoder (top-most encoder) will be the representation of the given input sentence. Let's denote the encoder representation obtained from the final encoder (in our example, it is encoder 2) by $R$. \n",
    "\n",
    "We take this encoder representation $R$ obtained from the final encoder (encoder 2) and feed them as an input to the decoder. The decoder takes the encoder representation $R$ as input and tries to generate the target sentence.\n",
    "\n",
    "Now that we have understood the encoder part of the transformer, in the next section, we will learn how a decoder works in detail. \n",
    "\n",
    "** To learn about decoder in detail, check the decoder section in the book **"
   ]
  }
 ],
 "metadata": {
  "kernelspec": {
   "display_name": "Python 3",
   "language": "python",
   "name": "python3"
  },
  "language_info": {
   "codemirror_mode": {
    "name": "ipython",
    "version": 3
   },
   "file_extension": ".py",
   "mimetype": "text/x-python",
   "name": "python",
   "nbconvert_exporter": "python",
   "pygments_lexer": "ipython3",
   "version": "3.6.3"
  }
 },
 "nbformat": 4,
 "nbformat_minor": 2
}
