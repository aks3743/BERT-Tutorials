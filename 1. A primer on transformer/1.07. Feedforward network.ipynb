{
 "cells": [
  {
   "cell_type": "markdown",
   "metadata": {},
   "source": [
    "## Feedforward Network\n",
    "\n",
    "The sublayer, feedforward network in an encoder block is shown in the following figure:\n",
    "\n",
    "![title](images/32.png)\n",
    "\n",
    "The feedforward network (FFN) consists of two dense layers with the ReLU activations. The parameters of the feedforward network are the same over the different positions of the sentence and it is different over the encoder blocks. In the next section, we will look into another interesting component of the encoder. "
   ]
  }
 ],
 "metadata": {
  "kernelspec": {
   "display_name": "Python 3",
   "language": "python",
   "name": "python3"
  },
  "language_info": {
   "codemirror_mode": {
    "name": "ipython",
    "version": 3
   },
   "file_extension": ".py",
   "mimetype": "text/x-python",
   "name": "python",
   "nbconvert_exporter": "python",
   "pygments_lexer": "ipython3",
   "version": "3.6.3"
  }
 },
 "nbformat": 4,
 "nbformat_minor": 2
}
